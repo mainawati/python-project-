{
 "cells": [
  {
   "cell_type": "code",
   "execution_count": null,
   "id": "fc736b07",
   "metadata": {},
   "outputs": [],
   "source": [
    "# import numpy as np\n",
    "import pandas as pd\n",
    "import matplotlib.pyplot as plt\n",
    "import seaborn as sns\n",
    "import warnings\n",
    "warnings.filterwarnings(\"ignore\")\n",
    "%matplotlib inline"
   ]
  },
  {
   "cell_type": "markdown",
   "id": "e6710057",
   "metadata": {},
   "source": [
    "# Simple Linear Regression"
   ]
  },
  {
   "cell_type": "code",
   "execution_count": 2,
   "id": "867ca378",
   "metadata": {},
   "outputs": [],
   "source": [
    "df=pd.read_csv(\"advertising.csv\",usecols=['TV','Sales'])"
   ]
  },
  {
   "cell_type": "code",
   "execution_count": 3,
   "id": "a5eea05c",
   "metadata": {},
   "outputs": [
    {
     "data": {
      "text/html": [
       "<div>\n",
       "<style scoped>\n",
       "    .dataframe tbody tr th:only-of-type {\n",
       "        vertical-align: middle;\n",
       "    }\n",
       "\n",
       "    .dataframe tbody tr th {\n",
       "        vertical-align: top;\n",
       "    }\n",
       "\n",
       "    .dataframe thead th {\n",
       "        text-align: right;\n",
       "    }\n",
       "</style>\n",
       "<table border=\"1\" class=\"dataframe\">\n",
       "  <thead>\n",
       "    <tr style=\"text-align: right;\">\n",
       "      <th></th>\n",
       "      <th>TV</th>\n",
       "      <th>Sales</th>\n",
       "    </tr>\n",
       "  </thead>\n",
       "  <tbody>\n",
       "    <tr>\n",
       "      <th>0</th>\n",
       "      <td>230.1</td>\n",
       "      <td>22.1</td>\n",
       "    </tr>\n",
       "    <tr>\n",
       "      <th>1</th>\n",
       "      <td>44.5</td>\n",
       "      <td>10.4</td>\n",
       "    </tr>\n",
       "    <tr>\n",
       "      <th>2</th>\n",
       "      <td>17.2</td>\n",
       "      <td>12.0</td>\n",
       "    </tr>\n",
       "    <tr>\n",
       "      <th>3</th>\n",
       "      <td>151.5</td>\n",
       "      <td>16.5</td>\n",
       "    </tr>\n",
       "    <tr>\n",
       "      <th>4</th>\n",
       "      <td>180.8</td>\n",
       "      <td>17.9</td>\n",
       "    </tr>\n",
       "    <tr>\n",
       "      <th>...</th>\n",
       "      <td>...</td>\n",
       "      <td>...</td>\n",
       "    </tr>\n",
       "    <tr>\n",
       "      <th>195</th>\n",
       "      <td>38.2</td>\n",
       "      <td>7.6</td>\n",
       "    </tr>\n",
       "    <tr>\n",
       "      <th>196</th>\n",
       "      <td>94.2</td>\n",
       "      <td>14.0</td>\n",
       "    </tr>\n",
       "    <tr>\n",
       "      <th>197</th>\n",
       "      <td>177.0</td>\n",
       "      <td>14.8</td>\n",
       "    </tr>\n",
       "    <tr>\n",
       "      <th>198</th>\n",
       "      <td>283.6</td>\n",
       "      <td>25.5</td>\n",
       "    </tr>\n",
       "    <tr>\n",
       "      <th>199</th>\n",
       "      <td>232.1</td>\n",
       "      <td>18.4</td>\n",
       "    </tr>\n",
       "  </tbody>\n",
       "</table>\n",
       "<p>200 rows × 2 columns</p>\n",
       "</div>"
      ],
      "text/plain": [
       "        TV  Sales\n",
       "0    230.1   22.1\n",
       "1     44.5   10.4\n",
       "2     17.2   12.0\n",
       "3    151.5   16.5\n",
       "4    180.8   17.9\n",
       "..     ...    ...\n",
       "195   38.2    7.6\n",
       "196   94.2   14.0\n",
       "197  177.0   14.8\n",
       "198  283.6   25.5\n",
       "199  232.1   18.4\n",
       "\n",
       "[200 rows x 2 columns]"
      ]
     },
     "execution_count": 3,
     "metadata": {},
     "output_type": "execute_result"
    }
   ],
   "source": [
    "df"
   ]
  },
  {
   "cell_type": "code",
   "execution_count": 4,
   "id": "c02f4572",
   "metadata": {},
   "outputs": [
    {
     "data": {
      "text/plain": [
       "(200, 2)"
      ]
     },
     "execution_count": 4,
     "metadata": {},
     "output_type": "execute_result"
    }
   ],
   "source": [
    "df.shape"
   ]
  },
  {
   "cell_type": "code",
   "execution_count": 5,
   "id": "c11c7214",
   "metadata": {},
   "outputs": [
    {
     "data": {
      "text/html": [
       "<div>\n",
       "<style scoped>\n",
       "    .dataframe tbody tr th:only-of-type {\n",
       "        vertical-align: middle;\n",
       "    }\n",
       "\n",
       "    .dataframe tbody tr th {\n",
       "        vertical-align: top;\n",
       "    }\n",
       "\n",
       "    .dataframe thead th {\n",
       "        text-align: right;\n",
       "    }\n",
       "</style>\n",
       "<table border=\"1\" class=\"dataframe\">\n",
       "  <thead>\n",
       "    <tr style=\"text-align: right;\">\n",
       "      <th></th>\n",
       "      <th>TV</th>\n",
       "      <th>Sales</th>\n",
       "    </tr>\n",
       "  </thead>\n",
       "  <tbody>\n",
       "    <tr>\n",
       "      <th>count</th>\n",
       "      <td>200.000000</td>\n",
       "      <td>200.000000</td>\n",
       "    </tr>\n",
       "    <tr>\n",
       "      <th>mean</th>\n",
       "      <td>147.042500</td>\n",
       "      <td>15.130500</td>\n",
       "    </tr>\n",
       "    <tr>\n",
       "      <th>std</th>\n",
       "      <td>85.854236</td>\n",
       "      <td>5.283892</td>\n",
       "    </tr>\n",
       "    <tr>\n",
       "      <th>min</th>\n",
       "      <td>0.700000</td>\n",
       "      <td>1.600000</td>\n",
       "    </tr>\n",
       "    <tr>\n",
       "      <th>25%</th>\n",
       "      <td>74.375000</td>\n",
       "      <td>11.000000</td>\n",
       "    </tr>\n",
       "    <tr>\n",
       "      <th>50%</th>\n",
       "      <td>149.750000</td>\n",
       "      <td>16.000000</td>\n",
       "    </tr>\n",
       "    <tr>\n",
       "      <th>75%</th>\n",
       "      <td>218.825000</td>\n",
       "      <td>19.050000</td>\n",
       "    </tr>\n",
       "    <tr>\n",
       "      <th>max</th>\n",
       "      <td>296.400000</td>\n",
       "      <td>27.000000</td>\n",
       "    </tr>\n",
       "  </tbody>\n",
       "</table>\n",
       "</div>"
      ],
      "text/plain": [
       "               TV       Sales\n",
       "count  200.000000  200.000000\n",
       "mean   147.042500   15.130500\n",
       "std     85.854236    5.283892\n",
       "min      0.700000    1.600000\n",
       "25%     74.375000   11.000000\n",
       "50%    149.750000   16.000000\n",
       "75%    218.825000   19.050000\n",
       "max    296.400000   27.000000"
      ]
     },
     "execution_count": 5,
     "metadata": {},
     "output_type": "execute_result"
    }
   ],
   "source": [
    "df.describe()"
   ]
  },
  {
   "cell_type": "markdown",
   "id": "7e729bc1",
   "metadata": {},
   "source": [
    "# Distribution of target(Dependent Variable)"
   ]
  },
  {
   "cell_type": "code",
   "execution_count": 6,
   "id": "d1a62b1b",
   "metadata": {},
   "outputs": [
    {
     "data": {
      "text/plain": [
       "<AxesSubplot:xlabel='Sales', ylabel='Density'>"
      ]
     },
     "execution_count": 6,
     "metadata": {},
     "output_type": "execute_result"
    },
    {
     "data": {
      "image/png": "[encoded data removed]",
      "text/plain": [
       "<Figure size 432x288 with 1 Axes>"
      ]
     },
     "metadata": {
      "needs_background": "light"
     },
     "output_type": "display_data"
    }
   ],
   "source": [
    "sns.distplot(df['Sales'])"
   ]
  },
  {
   "cell_type": "code",
   "execution_count": 7,
   "id": "9647005d",
   "metadata": {},
   "outputs": [
    {
     "data": {
      "text/plain": [
       "TV       0\n",
       "Sales    0\n",
       "dtype: int64"
      ]
     },
     "execution_count": 7,
     "metadata": {},
     "output_type": "execute_result"
    }
   ],
   "source": [
    "df.isnull().sum()"
   ]
  },
  {
   "cell_type": "code",
   "execution_count": 11,
   "id": "da2309ad",
   "metadata": {},
   "outputs": [
    {
     "data": {
      "image/png": "[encoded data removed]",
      "text/plain": [
       "<Figure size 504x576 with 1 Axes>"
      ]
     },
     "metadata": {
      "needs_background": "light"
     },
     "output_type": "display_data"
    }
   ],
   "source": [
    "plt.figure(figsize=(7,8))\n",
    "plt.scatter(x=df['TV'],y=df['Sales'])\n",
    "plt.xlabel(\"Spent on TV\")\n",
    "plt.ylabel(\"Sales\")\n",
    "plt.show()"
   ]
  },
  {
   "cell_type": "code",
   "execution_count": 12,
   "id": "e7208c11",
   "metadata": {},
   "outputs": [],
   "source": [
    "corr=df.corr()"
   ]
  },
  {
   "cell_type": "code",
   "execution_count": 14,
   "id": "d6fabd21",
   "metadata": {},
   "outputs": [
    {
     "data": {
      "text/plain": [
       "<AxesSubplot:>"
      ]
     },
     "execution_count": 14,
     "metadata": {},
     "output_type": "execute_result"
    },
    {
     "data": {
      "image/png": "[encoded data removed]",
      "text/plain": [
       "<Figure size 432x288 with 2 Axes>"
      ]
     },
     "metadata": {
      "needs_background": "light"
     },
     "output_type": "display_data"
    }
   ],
   "source": [
    "sns.heatmap(corr,annot=True)"
   ]
  },
  {
   "cell_type": "code",
   "execution_count": 23,
   "id": "8d697bd8",
   "metadata": {},
   "outputs": [],
   "source": [
    "X=df[[\"TV\"]] #Independent Variable\n",
    "y=df['Sales'] #Dependent Variable"
   ]
  },
  {
   "cell_type": "code",
   "execution_count": 24,
   "id": "4cf2232f",
   "metadata": {},
   "outputs": [],
   "source": [
    "from sklearn.model_selection import train_test_split"
   ]
  },
  {
   "cell_type": "code",
   "execution_count": 25,
   "id": "57f9cf5e",
   "metadata": {},
   "outputs": [],
   "source": [
    "X_train,X_test,y_train,y_test=train_test_split(X,y,test_size=0.20,random_state=123)"
   ]
  },
  {
   "cell_type": "code",
   "execution_count": 26,
   "id": "eea5a0cd",
   "metadata": {},
   "outputs": [
    {
     "data": {
      "text/plain": [
       "(160, 1)"
      ]
     },
     "execution_count": 26,
     "metadata": {},
     "output_type": "execute_result"
    }
   ],
   "source": [
    "X_train.shape"
   ]
  },
  {
   "cell_type": "code",
   "execution_count": 28,
   "id": "81eee2b4",
   "metadata": {},
   "outputs": [
    {
     "data": {
      "text/plain": [
       "(40, 1)"
      ]
     },
     "execution_count": 28,
     "metadata": {},
     "output_type": "execute_result"
    }
   ],
   "source": [
    "X_test.shape"
   ]
  },
  {
   "cell_type": "code",
   "execution_count": 29,
   "id": "4cc3a916",
   "metadata": {},
   "outputs": [
    {
     "data": {
      "text/plain": [
       "(160,)"
      ]
     },
     "execution_count": 29,
     "metadata": {},
     "output_type": "execute_result"
    }
   ],
   "source": [
    "y_train.shape"
   ]
  },
  {
   "cell_type": "code",
   "execution_count": 30,
   "id": "542db7fc",
   "metadata": {},
   "outputs": [
    {
     "data": {
      "text/plain": [
       "(40,)"
      ]
     },
     "execution_count": 30,
     "metadata": {},
     "output_type": "execute_result"
    }
   ],
   "source": [
    "y_test.shape"
   ]
  },
  {
   "cell_type": "code",
   "execution_count": 15,
   "id": "1a925bf7",
   "metadata": {},
   "outputs": [],
   "source": [
    "from sklearn.linear_model import LinearRegression"
   ]
  },
  {
   "cell_type": "code",
   "execution_count": 16,
   "id": "e634a36d",
   "metadata": {},
   "outputs": [],
   "source": [
    "lr=LinearRegression()"
   ]
  },
  {
   "cell_type": "code",
   "execution_count": 31,
   "id": "6e9fec78",
   "metadata": {},
   "outputs": [
    {
     "data": {
      "text/plain": [
       "LinearRegression()"
      ]
     },
     "execution_count": 31,
     "metadata": {},
     "output_type": "execute_result"
    }
   ],
   "source": [
    "lr.fit(X_train,y_train)"
   ]
  },
  {
   "cell_type": "code",
   "execution_count": 33,
   "id": "0313a462",
   "metadata": {},
   "outputs": [],
   "source": [
    "y_pred_test=lr.predict(X_test)"
   ]
  },
  {
   "cell_type": "code",
   "execution_count": 45,
   "id": "3eaa0e50",
   "metadata": {},
   "outputs": [
    {
     "data": {
      "text/plain": [
       "Text(0.5, 1.0, 'Sales Vs TV Spending')"
      ]
     },
     "execution_count": 45,
     "metadata": {},
     "output_type": "execute_result"
    },
    {
     "data": {
      "image/png": "[encoded data removed]",
      "text/plain": [
       "<Figure size 432x288 with 1 Axes>"
      ]
     },
     "metadata": {
      "needs_background": "light"
     },
     "output_type": "display_data"
    }
   ],
   "source": [
    "plt.scatter(X_test,y_test,color='green') #Actual Values\n",
    "plt.plot(X_test,y_pred_test,color='red') #predicted Values\n",
    "plt.title(\"Sales Vs TV Spending\")"
   ]
  },
  {
   "cell_type": "code",
   "execution_count": 34,
   "id": "5973d062",
   "metadata": {},
   "outputs": [
    {
     "data": {
      "text/plain": [
       "array([17.89340189, 11.42913734, 11.13186765,  9.51039661, 15.05582757,\n",
       "       19.96888482, 16.0449249 , 16.96375849, 17.27724289,  7.72677846,\n",
       "       11.16429707, 18.17445687, 10.13196051,  8.10512171,  7.80244711,\n",
       "       13.19654077, 16.86647023, 22.04977265,  8.11052661, 18.89871393,\n",
       "        8.15376584, 11.86693452,  8.06188248,  9.79685649, 19.0014071 ,\n",
       "        8.54291889, 15.55848359, 14.81801181, 12.29392189, 18.79061586,\n",
       "       13.36409278, 20.65530756, 22.63890713,  8.14295603, 17.53667826,\n",
       "       18.97438258, 20.81204976, 17.08807127, 15.92061212, 11.0616039 ])"
      ]
     },
     "execution_count": 34,
     "metadata": {},
     "output_type": "execute_result"
    }
   ],
   "source": [
    "y_pred_test"
   ]
  },
  {
   "cell_type": "code",
   "execution_count": 35,
   "id": "a2726e16",
   "metadata": {},
   "outputs": [],
   "source": [
    "y_pred_train=lr.predict(X_train)"
   ]
  },
  {
   "cell_type": "code",
   "execution_count": 36,
   "id": "c6e5fe5f",
   "metadata": {},
   "outputs": [
    {
     "data": {
      "text/plain": [
       "array([10.46165962, 22.26596879, 11.32103927, 21.44982837, 19.43379937,\n",
       "       15.98547096, 16.6610839 , 19.11491007, 17.77449401, 13.02898877,\n",
       "       14.6342451 , 19.29867679, 22.96320134, 14.73153336, 11.17510688,\n",
       "       11.72640703, 10.66704595, 22.06058246, 13.60731344, 20.02833876,\n",
       "       20.05536327, 11.98043749, 16.59082015, 14.67748432,  7.55922646,\n",
       "       13.63433795, 17.24481347, 14.35319012, 21.52009211, 12.64524062,\n",
       "       20.54180459, 12.36418564, 14.21266263, 11.22375101, 12.16960911,\n",
       "        8.45103553,  8.02404816, 15.19095015,  7.13223908,  9.98602811,\n",
       "       13.59109873, 22.92536701, 16.29355046,  7.54841665, 10.91026661,\n",
       "       22.80645914, 19.53108764, 22.55242867, 16.55839073, 21.88762555,\n",
       "       18.03933428, 18.48253636, 20.23912999, 11.94260317, 11.80748058,\n",
       "        7.56463136, 10.75892931, 22.46054532, 10.82378815, 18.62846876,\n",
       "       21.21741752,  9.15907788,  9.42391815, 20.07157798, 21.29308617,\n",
       "       12.74793379,  9.14826808, 18.90411883, 15.93142193, 19.0122169 ,\n",
       "       13.0776329 , 17.89340189, 10.20222425, 16.41786324, 14.61803039,\n",
       "       19.20138853, 19.76890339, 12.18582383, 18.27174513, 17.56370277,\n",
       "       13.02898877, 19.92564559, 18.6987325 , 14.62343529, 15.28283351,\n",
       "       11.2183461 , 18.73656683,  8.64020715,  8.47806005, 19.37434544,\n",
       "       11.22375101, 12.52092784,  9.4995868 , 10.83459796,  8.38077178,\n",
       "       20.52018497,  7.48896271, 21.30389597, 23.11453864, 18.27715003,\n",
       "       10.31572723, 17.25021837, 18.12581274,  9.08881414, 11.15348726,\n",
       "       19.63918571, 17.85556756, 17.65558613, 20.07157798,  7.80785202,\n",
       "        9.41851325, 18.48794127,  8.00783345, 14.1802332 , 18.81223548,\n",
       "       16.10978374, 21.42820875,  8.58075321, 12.26689738,  7.3160058 ,\n",
       "       12.89927108, 13.88836842, 17.08807127, 22.23894427, 18.86087961,\n",
       "       19.49865822, 14.40183425, 14.54776664,  9.70497313, 17.42317528,\n",
       "       16.1962622 , 16.6610839 , 19.41758466, 18.63387366,  8.02404816,\n",
       "       17.84475776, 10.71028518, 19.92564559,  9.22934163, 13.42895162,\n",
       "        7.38626955, 15.18554525, 16.3530044 , 20.15805644, 19.11491007,\n",
       "       12.34797093, 14.08834985, 20.06076818, 22.42271099, 18.42308243,\n",
       "       17.77449401, 14.45588328, 13.74784093,  8.44563063, 10.79135873,\n",
       "       22.30380312, 22.7524101 ,  8.79694935,  7.51598723, 20.89852821])"
      ]
     },
     "execution_count": 36,
     "metadata": {},
     "output_type": "execute_result"
    }
   ],
   "source": [
    "y_pred_train"
   ]
  },
  {
   "cell_type": "code",
   "execution_count": 46,
   "id": "da695cff",
   "metadata": {},
   "outputs": [
    {
     "data": {
      "text/plain": [
       "Text(0.5, 1.0, 'Sales Vs TV Spending')"
      ]
     },
     "execution_count": 46,
     "metadata": {},
     "output_type": "execute_result"
    },
    {
     "data": {
      "image/png": "[encoded data removed]",
      "text/plain": [
       "<Figure size 432x288 with 1 Axes>"
      ]
     },
     "metadata": {
      "needs_background": "light"
     },
     "output_type": "display_data"
    }
   ],
   "source": [
    "plt.scatter(X_train,y_train,color='green') #Actual Values\n",
    "plt.plot(X_train,y_pred_train,color='red') #predicted Values\n",
    "plt.title(\"Sales Vs TV Spending\")"
   ]
  },
  {
   "cell_type": "code",
   "execution_count": 54,
   "id": "75a8db1e",
   "metadata": {},
   "outputs": [],
   "source": [
    "from sklearn.metrics import r2_score,mean_squared_error"
   ]
  },
  {
   "cell_type": "code",
   "execution_count": 59,
   "id": "e9348b4b",
   "metadata": {},
   "outputs": [
    {
     "name": "stdout",
     "output_type": "stream",
     "text": [
      "Train Data\n",
      "R2 Score is  0.8\n",
      "RMSE is 2.29\n",
      "Test Data\n",
      "R2 Score is  0.84\n"
     ]
    }
   ],
   "source": [
    "print(\"Train Data\")\n",
    "mse=mean_squared_error(y_train,y_pred_train)\n",
    "RMSE=np.sqrt(mse)\n",
    "print(\"R2 Score is \",round(r2_score(y_train,y_pred_train),2))\n",
    "print(\"RMSE is\",round(RMSE,2))\n",
    "print(\"Test Data\")\n",
    "print(\"R2 Score is \",round(r2_score(y_test,y_pred_test),2))\n"
   ]
  },
  {
   "cell_type": "code",
   "execution_count": 64,
   "id": "cd222c96",
   "metadata": {},
   "outputs": [],
   "source": [
    "def metric(y_actual,y_pred):\n",
    "    r2=r2_score(y_actual,y_pred)\n",
    "    RMSE=np.sqrt(mean_squared_error(y_actual,y_pred))\n",
    "    print(\"R2 Score: {} | RMSE: {}\".format(round(r2,2),round(RMSE,2)))\n"
   ]
  },
  {
   "cell_type": "code",
   "execution_count": 66,
   "id": "4c794a7e",
   "metadata": {},
   "outputs": [
    {
     "name": "stdout",
     "output_type": "stream",
     "text": [
      "Training Performance\n",
      "R2 Score: 0.8 | RMSE: 2.29\n",
      "Testing Performance\n",
      "R2 Score: 0.84 | RMSE: 2.3\n"
     ]
    }
   ],
   "source": [
    "print(\"Training Performance\")\n",
    "metric(y_train,y_pred_train)\n",
    "print(\"Testing Performance\")\n",
    "metric(y_test,y_pred_test)"
   ]
  },
  {
   "cell_type": "code",
   "execution_count": 67,
   "id": "d9e63aff",
   "metadata": {},
   "outputs": [
    {
     "data": {
      "text/plain": [
       "7.094404759150407"
      ]
     },
     "execution_count": 67,
     "metadata": {},
     "output_type": "execute_result"
    }
   ],
   "source": [
    "lr.intercept_"
   ]
  },
  {
   "cell_type": "code",
   "execution_count": 69,
   "id": "3cfabb4f",
   "metadata": {},
   "outputs": [
    {
     "data": {
      "text/plain": [
       "0.054049034670669134"
      ]
     },
     "execution_count": 69,
     "metadata": {},
     "output_type": "execute_result"
    }
   ],
   "source": [
    "lr.coef_[0]"
   ]
  },
  {
   "cell_type": "markdown",
   "id": "3c087e97",
   "metadata": {},
   "source": [
    "# Predicting Sales for 150$"
   ]
  },
  {
   "cell_type": "code",
   "execution_count": 81,
   "id": "52079e6d",
   "metadata": {},
   "outputs": [
    {
     "name": "stdout",
     "output_type": "stream",
     "text": [
      "Pridected Spending for TV: 15.2\n"
     ]
    }
   ],
   "source": [
    "print(\"Pridected Spending for TV:\",round(lr.predict([[150]])[0],2))"
   ]
  },
  {
   "cell_type": "code",
   "execution_count": 76,
   "id": "f57d0502",
   "metadata": {},
   "outputs": [],
   "source": [
    "y_pred=lr.coef_[0]*150+lr.intercept_"
   ]
  },
  {
   "cell_type": "code",
   "execution_count": 80,
   "id": "a2748935",
   "metadata": {},
   "outputs": [
    {
     "name": "stdout",
     "output_type": "stream",
     "text": [
      "Predicted Spending for TV 15.2\n"
     ]
    }
   ],
   "source": [
    "print(\"Predicted Spending for TV\",round(y_pred,2))"
   ]
  },
  {
   "cell_type": "markdown",
   "id": "86cec511",
   "metadata": {},
   "source": [
    "# Multiple Linear Regression"
   ]
  },
  {
   "cell_type": "code",
   "execution_count": null,
   "id": "5fa84d50",
   "metadata": {},
   "outputs": [],
   "source": []
  }
 ],
 "metadata": {
  "kernelspec": {
   "display_name": "Python 3 (ipykernel)",
   "language": "python",
   "name": "python3"
  },
  "language_info": {
   "codemirror_mode": {
    "name": "ipython",
    "version": 3
   },
   "file_extension": ".py",
   "mimetype": "text/x-python",
   "name": "python",
   "nbconvert_exporter": "python",
   "pygments_lexer": "ipython3",
   "version": "3.9.7"
  }
 },
 "nbformat": 4,
 "nbformat_minor": 5
}
